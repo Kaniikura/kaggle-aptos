{
 "cells": [
  {
   "cell_type": "code",
   "execution_count": 23,
   "metadata": {},
   "outputs": [],
   "source": [
    "%reload_ext autoreload\n",
    "%autoreload 2\n",
    "%matplotlib inline\n",
    "import numpy as np\n",
    "import pandas as pd\n",
    "import seaborn as sns; sns.set()\n",
    "import scipy as sp\n",
    "from collections import Counter\n",
    "import json\n",
    "import time\n",
    "import cv2\n",
    "import matplotlib.pyplot as plt\n",
    "from tqdm import tqdm\n",
    "from PIL import Image, ImageFile\n",
    "from torch.utils.data import Dataset\n",
    "import torch\n",
    "from torchvision import transforms\n",
    "import albumentations\n",
    "from albumentations import torch as AT\n",
    "import os\n",
    "\n",
    "# To have reproducible results and compare them\n",
    "nr_seed = 2019\n",
    "import numpy as np \n",
    "np.random.seed(nr_seed)"
   ]
  },
  {
   "cell_type": "code",
   "execution_count": 2,
   "metadata": {},
   "outputs": [],
   "source": [
    "def crop_image1(img,tol=7):\n",
    "    # tol  is tolerance\n",
    "    mask = img>tol\n",
    "    return img[np.ix_(mask.any(1),mask.any(0))]\n",
    "\n",
    "def crop_image_from_gray(img,tol=7):\n",
    "    if img.ndim ==2:\n",
    "        mask = img>tol\n",
    "        return img[np.ix_(mask.any(1),mask.any(0))]\n",
    "    elif img.ndim==3:\n",
    "        gray_img = cv2.cvtColor(img, cv2.COLOR_RGB2GRAY)\n",
    "        mask = gray_img>tol\n",
    "        \n",
    "        check_shape = img[:,:,0][np.ix_(mask.any(1),mask.any(0))].shape[0]\n",
    "        if (check_shape == 0): # image is too dark so that we crop out everything,\n",
    "            return img \n",
    "        else:\n",
    "            img1=img[:,:,0][np.ix_(mask.any(1),mask.any(0))]\n",
    "            img2=img[:,:,1][np.ix_(mask.any(1),mask.any(0))]\n",
    "            img3=img[:,:,2][np.ix_(mask.any(1),mask.any(0))]\n",
    "            img = np.stack([img1,img2,img3],axis=-1)\n",
    "        \n",
    "        return img\n"
   ]
  },
  {
   "cell_type": "code",
   "execution_count": 3,
   "metadata": {},
   "outputs": [],
   "source": [
    "train = pd.read_csv(\"../input/aptos2019-blindness-detection/train.csv\")\n",
    "train_old = pd.read_csv(\"../input/diabetic-retinopathy-resized/trainLabels.csv\")\n",
    "test = pd.read_csv(\"../input/aptos2019-blindness-detection/test.csv\")"
   ]
  },
  {
   "cell_type": "markdown",
   "metadata": {},
   "source": [
    "## check image attribute"
   ]
  },
  {
   "cell_type": "code",
   "execution_count": 4,
   "metadata": {},
   "outputs": [],
   "source": [
    "def apply_img_attr(x,datatype='train_new'):\n",
    "    lst = []\n",
    "    if datatype=='train_new':\n",
    "        im = cv2.imread(f\"../input/aptos2019-blindness-detection/train_images/{x}.png\")\n",
    "    elif datatype=='test_new':\n",
    "        im = cv2.imread(f\"../input/aptos2019-blindness-detection/test_images/{x}.png\")\n",
    "    else :\n",
    "        im = cv2.imread(f\"../input/diabetic-retinopathy-resized/resized_train/{x}.jpeg\")\n",
    "        \n",
    "    lst += im.shape[:2]\n",
    "    im = crop_image_from_gray(im)\n",
    "    im = cv2.cvtColor(im, cv2.COLOR_BGR2GRAY)\n",
    "    lst += im.shape[:2]\n",
    "    s1 = im.size\n",
    "    mask = im > 7\n",
    "    s2 = mask.sum()\n",
    "    ratio = s2/s1\n",
    "    lst.append(ratio)\n",
    "    return lst"
   ]
  },
  {
   "cell_type": "code",
   "execution_count": 5,
   "metadata": {},
   "outputs": [
    {
     "data": {
      "text/html": [
       "<div>\n",
       "<style scoped>\n",
       "    .dataframe tbody tr th:only-of-type {\n",
       "        vertical-align: middle;\n",
       "    }\n",
       "\n",
       "    .dataframe tbody tr th {\n",
       "        vertical-align: top;\n",
       "    }\n",
       "\n",
       "    .dataframe thead th {\n",
       "        text-align: right;\n",
       "    }\n",
       "</style>\n",
       "<table border=\"1\" class=\"dataframe\">\n",
       "  <thead>\n",
       "    <tr style=\"text-align: right;\">\n",
       "      <th></th>\n",
       "      <th>id_code</th>\n",
       "      <th>diagnosis</th>\n",
       "      <th>x</th>\n",
       "      <th>y</th>\n",
       "      <th>cropped_x</th>\n",
       "      <th>cropped_y</th>\n",
       "      <th>ratio</th>\n",
       "    </tr>\n",
       "  </thead>\n",
       "  <tbody>\n",
       "    <tr>\n",
       "      <th>0</th>\n",
       "      <td>000c1434d8d7</td>\n",
       "      <td>2</td>\n",
       "      <td>2136.0</td>\n",
       "      <td>3216.0</td>\n",
       "      <td>2136.0</td>\n",
       "      <td>2709.0</td>\n",
       "      <td>0.885965</td>\n",
       "    </tr>\n",
       "    <tr>\n",
       "      <th>1</th>\n",
       "      <td>001639a390f0</td>\n",
       "      <td>4</td>\n",
       "      <td>2136.0</td>\n",
       "      <td>3216.0</td>\n",
       "      <td>2136.0</td>\n",
       "      <td>2713.0</td>\n",
       "      <td>0.885399</td>\n",
       "    </tr>\n",
       "    <tr>\n",
       "      <th>2</th>\n",
       "      <td>0024cdab0c1e</td>\n",
       "      <td>1</td>\n",
       "      <td>1736.0</td>\n",
       "      <td>2416.0</td>\n",
       "      <td>1736.0</td>\n",
       "      <td>2259.0</td>\n",
       "      <td>0.891311</td>\n",
       "    </tr>\n",
       "    <tr>\n",
       "      <th>3</th>\n",
       "      <td>002c21358ce6</td>\n",
       "      <td>0</td>\n",
       "      <td>1050.0</td>\n",
       "      <td>1050.0</td>\n",
       "      <td>1050.0</td>\n",
       "      <td>1050.0</td>\n",
       "      <td>0.791934</td>\n",
       "    </tr>\n",
       "    <tr>\n",
       "      <th>4</th>\n",
       "      <td>005b95c28852</td>\n",
       "      <td>0</td>\n",
       "      <td>1536.0</td>\n",
       "      <td>2048.0</td>\n",
       "      <td>1378.0</td>\n",
       "      <td>1376.0</td>\n",
       "      <td>0.786894</td>\n",
       "    </tr>\n",
       "  </tbody>\n",
       "</table>\n",
       "</div>"
      ],
      "text/plain": [
       "        id_code  diagnosis       x       y  cropped_x  cropped_y     ratio\n",
       "0  000c1434d8d7          2  2136.0  3216.0     2136.0     2709.0  0.885965\n",
       "1  001639a390f0          4  2136.0  3216.0     2136.0     2713.0  0.885399\n",
       "2  0024cdab0c1e          1  1736.0  2416.0     1736.0     2259.0  0.891311\n",
       "3  002c21358ce6          0  1050.0  1050.0     1050.0     1050.0  0.791934\n",
       "4  005b95c28852          0  1536.0  2048.0     1378.0     1376.0  0.786894"
      ]
     },
     "execution_count": 5,
     "metadata": {},
     "output_type": "execute_result"
    }
   ],
   "source": [
    "new_train = pd.concat([train,train['id_code'].apply(lambda x: pd.Series(apply_img_attr(x,datatype='train_new')))\\\n",
    "                    .rename(columns={0:\"x\",1:\"y\",2:\"cropped_x\",3:\"cropped_y\",4:\"ratio\"})],axis=1,join ='inner')\n",
    "new_train.to_csv('../data/train_img-attr.csv')\n",
    "new_train.head()"
   ]
  },
  {
   "cell_type": "code",
   "execution_count": 6,
   "metadata": {},
   "outputs": [
    {
     "data": {
      "text/html": [
       "<div>\n",
       "<style scoped>\n",
       "    .dataframe tbody tr th:only-of-type {\n",
       "        vertical-align: middle;\n",
       "    }\n",
       "\n",
       "    .dataframe tbody tr th {\n",
       "        vertical-align: top;\n",
       "    }\n",
       "\n",
       "    .dataframe thead th {\n",
       "        text-align: right;\n",
       "    }\n",
       "</style>\n",
       "<table border=\"1\" class=\"dataframe\">\n",
       "  <thead>\n",
       "    <tr style=\"text-align: right;\">\n",
       "      <th></th>\n",
       "      <th>id_code</th>\n",
       "      <th>x</th>\n",
       "      <th>y</th>\n",
       "      <th>cropped_x</th>\n",
       "      <th>cropped_y</th>\n",
       "      <th>ratio</th>\n",
       "    </tr>\n",
       "  </thead>\n",
       "  <tbody>\n",
       "    <tr>\n",
       "      <th>0</th>\n",
       "      <td>0005cfc8afb6</td>\n",
       "      <td>480.0</td>\n",
       "      <td>640.0</td>\n",
       "      <td>480.0</td>\n",
       "      <td>640.0</td>\n",
       "      <td>0.989251</td>\n",
       "    </tr>\n",
       "    <tr>\n",
       "      <th>1</th>\n",
       "      <td>003f0afdcd15</td>\n",
       "      <td>480.0</td>\n",
       "      <td>640.0</td>\n",
       "      <td>480.0</td>\n",
       "      <td>640.0</td>\n",
       "      <td>0.989401</td>\n",
       "    </tr>\n",
       "    <tr>\n",
       "      <th>2</th>\n",
       "      <td>006efc72b638</td>\n",
       "      <td>480.0</td>\n",
       "      <td>640.0</td>\n",
       "      <td>480.0</td>\n",
       "      <td>640.0</td>\n",
       "      <td>0.989681</td>\n",
       "    </tr>\n",
       "    <tr>\n",
       "      <th>3</th>\n",
       "      <td>00836aaacf06</td>\n",
       "      <td>480.0</td>\n",
       "      <td>640.0</td>\n",
       "      <td>480.0</td>\n",
       "      <td>640.0</td>\n",
       "      <td>0.989460</td>\n",
       "    </tr>\n",
       "    <tr>\n",
       "      <th>4</th>\n",
       "      <td>009245722fa4</td>\n",
       "      <td>480.0</td>\n",
       "      <td>640.0</td>\n",
       "      <td>480.0</td>\n",
       "      <td>640.0</td>\n",
       "      <td>0.989551</td>\n",
       "    </tr>\n",
       "  </tbody>\n",
       "</table>\n",
       "</div>"
      ],
      "text/plain": [
       "        id_code      x      y  cropped_x  cropped_y     ratio\n",
       "0  0005cfc8afb6  480.0  640.0      480.0      640.0  0.989251\n",
       "1  003f0afdcd15  480.0  640.0      480.0      640.0  0.989401\n",
       "2  006efc72b638  480.0  640.0      480.0      640.0  0.989681\n",
       "3  00836aaacf06  480.0  640.0      480.0      640.0  0.989460\n",
       "4  009245722fa4  480.0  640.0      480.0      640.0  0.989551"
      ]
     },
     "execution_count": 6,
     "metadata": {},
     "output_type": "execute_result"
    }
   ],
   "source": [
    "new_test = pd.concat([test,test['id_code'].apply(lambda x: pd.Series(apply_img_attr(x,datatype='test_new')))\\\n",
    "                    .rename(columns={0:\"x\",1:\"y\",2:\"cropped_x\",3:\"cropped_y\",4:\"ratio\"})],axis=1,join ='inner')\n",
    "new_test.to_csv('../data/test_img-attr.csv')\n",
    "new_test.head()"
   ]
  },
  {
   "cell_type": "code",
   "execution_count": 7,
   "metadata": {},
   "outputs": [
    {
     "data": {
      "text/html": [
       "<div>\n",
       "<style scoped>\n",
       "    .dataframe tbody tr th:only-of-type {\n",
       "        vertical-align: middle;\n",
       "    }\n",
       "\n",
       "    .dataframe tbody tr th {\n",
       "        vertical-align: top;\n",
       "    }\n",
       "\n",
       "    .dataframe thead th {\n",
       "        text-align: right;\n",
       "    }\n",
       "</style>\n",
       "<table border=\"1\" class=\"dataframe\">\n",
       "  <thead>\n",
       "    <tr style=\"text-align: right;\">\n",
       "      <th></th>\n",
       "      <th>image</th>\n",
       "      <th>level</th>\n",
       "      <th>x</th>\n",
       "      <th>y</th>\n",
       "      <th>cropped_x</th>\n",
       "      <th>cropped_y</th>\n",
       "      <th>ratio</th>\n",
       "    </tr>\n",
       "  </thead>\n",
       "  <tbody>\n",
       "    <tr>\n",
       "      <th>0</th>\n",
       "      <td>10_left</td>\n",
       "      <td>0</td>\n",
       "      <td>683.0</td>\n",
       "      <td>1024.0</td>\n",
       "      <td>647.0</td>\n",
       "      <td>650.0</td>\n",
       "      <td>0.785448</td>\n",
       "    </tr>\n",
       "    <tr>\n",
       "      <th>1</th>\n",
       "      <td>10_right</td>\n",
       "      <td>0</td>\n",
       "      <td>683.0</td>\n",
       "      <td>1024.0</td>\n",
       "      <td>647.0</td>\n",
       "      <td>648.0</td>\n",
       "      <td>0.786073</td>\n",
       "    </tr>\n",
       "    <tr>\n",
       "      <th>2</th>\n",
       "      <td>13_left</td>\n",
       "      <td>0</td>\n",
       "      <td>768.0</td>\n",
       "      <td>1024.0</td>\n",
       "      <td>768.0</td>\n",
       "      <td>802.0</td>\n",
       "      <td>0.812109</td>\n",
       "    </tr>\n",
       "    <tr>\n",
       "      <th>3</th>\n",
       "      <td>13_right</td>\n",
       "      <td>0</td>\n",
       "      <td>768.0</td>\n",
       "      <td>1024.0</td>\n",
       "      <td>768.0</td>\n",
       "      <td>802.0</td>\n",
       "      <td>0.812183</td>\n",
       "    </tr>\n",
       "    <tr>\n",
       "      <th>4</th>\n",
       "      <td>15_left</td>\n",
       "      <td>1</td>\n",
       "      <td>679.0</td>\n",
       "      <td>1024.0</td>\n",
       "      <td>665.0</td>\n",
       "      <td>667.0</td>\n",
       "      <td>0.782548</td>\n",
       "    </tr>\n",
       "  </tbody>\n",
       "</table>\n",
       "</div>"
      ],
      "text/plain": [
       "      image  level      x       y  cropped_x  cropped_y     ratio\n",
       "0   10_left      0  683.0  1024.0      647.0      650.0  0.785448\n",
       "1  10_right      0  683.0  1024.0      647.0      648.0  0.786073\n",
       "2   13_left      0  768.0  1024.0      768.0      802.0  0.812109\n",
       "3  13_right      0  768.0  1024.0      768.0      802.0  0.812183\n",
       "4   15_left      1  679.0  1024.0      665.0      667.0  0.782548"
      ]
     },
     "execution_count": 7,
     "metadata": {},
     "output_type": "execute_result"
    }
   ],
   "source": [
    "new_train_old = pd.concat([train_old,train_old['image'].apply(lambda x: pd.Series(apply_img_attr(x,datatype='train_old')))\\\n",
    "                    .rename(columns={0:\"x\",1:\"y\",2:\"cropped_x\",3:\"cropped_y\",4:\"ratio\"})],axis=1,join ='inner')\n",
    "new_train_old.to_csv('../data/train_old_img-attr.csv')\n",
    "new_train_old.head()"
   ]
  },
  {
   "cell_type": "code",
   "execution_count": null,
   "metadata": {},
   "outputs": [],
   "source": [
    "new_train = pd.read_csv('../data/train_img-attr.csv')\n",
    "new_test = pd.read_csv('../data/test_img-attr.csv')\n",
    "new_train_old = pd.read_csv('../data/train_old_img-attr.csv')"
   ]
  },
  {
   "cell_type": "markdown",
   "metadata": {},
   "source": [
    "### train"
   ]
  },
  {
   "cell_type": "code",
   "execution_count": 11,
   "metadata": {},
   "outputs": [
    {
     "data": {
      "text/plain": [
       "<matplotlib.axes._subplots.AxesSubplot at 0x7f3ac8424898>"
      ]
     },
     "execution_count": 11,
     "metadata": {},
     "output_type": "execute_result"
    },
    {
     "data": {
      "image/png": "[encoded data removed]",
      "text/plain": [
       "<Figure size 432x288 with 1 Axes>"
      ]
     },
     "metadata": {
      "needs_background": "light"
     },
     "output_type": "display_data"
    }
   ],
   "source": [
    "new_train['ratio'].hist(bins=30)"
   ]
  },
  {
   "cell_type": "code",
   "execution_count": 24,
   "metadata": {},
   "outputs": [
    {
     "data": {
      "image/png": "[encoded data removed]",
      "text/plain": [
       "<Figure size 432x288 with 1 Axes>"
      ]
     },
     "metadata": {},
     "output_type": "display_data"
    }
   ],
   "source": [
    "ax = sns.scatterplot(x=\"cropped_x\", y=\"cropped_y\", data=new_train)"
   ]
  },
  {
   "cell_type": "markdown",
   "metadata": {},
   "source": [
    "### test"
   ]
  },
  {
   "cell_type": "code",
   "execution_count": 20,
   "metadata": {},
   "outputs": [
    {
     "data": {
      "text/plain": [
       "<matplotlib.axes._subplots.AxesSubplot at 0x7f3ad4634f98>"
      ]
     },
     "execution_count": 20,
     "metadata": {},
     "output_type": "execute_result"
    },
    {
     "data": {
      "image/png": "[encoded data removed]",
      "text/plain": [
       "<Figure size 432x288 with 1 Axes>"
      ]
     },
     "metadata": {
      "needs_background": "light"
     },
     "output_type": "display_data"
    }
   ],
   "source": [
    "new_test['ratio'].hist(bins=30)"
   ]
  },
  {
   "cell_type": "code",
   "execution_count": 26,
   "metadata": {},
   "outputs": [
    {
     "data": {
      "image/png": "[encoded data removed]",
      "text/plain": [
       "<Figure size 432x288 with 1 Axes>"
      ]
     },
     "metadata": {},
     "output_type": "display_data"
    }
   ],
   "source": [
    "ax = sns.scatterplot(x=\"cropped_x\", y=\"cropped_y\", data=new_test)"
   ]
  },
  {
   "cell_type": "markdown",
   "metadata": {},
   "source": [
    "### 2015"
   ]
  },
  {
   "cell_type": "code",
   "execution_count": 10,
   "metadata": {},
   "outputs": [
    {
     "data": {
      "text/plain": [
       "<matplotlib.axes._subplots.AxesSubplot at 0x7f3ac846ec18>"
      ]
     },
     "execution_count": 10,
     "metadata": {},
     "output_type": "execute_result"
    },
    {
     "data": {
      "image/png": "[encoded data removed]",
      "text/plain": [
       "<Figure size 432x288 with 1 Axes>"
      ]
     },
     "metadata": {
      "needs_background": "light"
     },
     "output_type": "display_data"
    }
   ],
   "source": [
    "new_train_old['ratio'].hist(bins=30)"
   ]
  },
  {
   "cell_type": "code",
   "execution_count": 27,
   "metadata": {},
   "outputs": [
    {
     "data": {
      "image/png": "[encoded data removed]",
      "text/plain": [
       "<Figure size 432x288 with 1 Axes>"
      ]
     },
     "metadata": {},
     "output_type": "display_data"
    }
   ],
   "source": [
    "ax = sns.scatterplot(x=\"cropped_x\", y=\"cropped_y\", data=new_train_old)"
   ]
  },
  {
   "cell_type": "code",
   "execution_count": 28,
   "metadata": {
    "scrolled": true
   },
   "outputs": [
    {
     "data": {
      "text/html": [
       "<div>\n",
       "<style scoped>\n",
       "    .dataframe tbody tr th:only-of-type {\n",
       "        vertical-align: middle;\n",
       "    }\n",
       "\n",
       "    .dataframe tbody tr th {\n",
       "        vertical-align: top;\n",
       "    }\n",
       "\n",
       "    .dataframe thead th {\n",
       "        text-align: right;\n",
       "    }\n",
       "</style>\n",
       "<table border=\"1\" class=\"dataframe\">\n",
       "  <thead>\n",
       "    <tr style=\"text-align: right;\">\n",
       "      <th></th>\n",
       "      <th>level</th>\n",
       "      <th>x</th>\n",
       "      <th>y</th>\n",
       "      <th>cropped_x</th>\n",
       "      <th>cropped_y</th>\n",
       "      <th>ratio</th>\n",
       "    </tr>\n",
       "  </thead>\n",
       "  <tbody>\n",
       "    <tr>\n",
       "      <th>count</th>\n",
       "      <td>35126.000000</td>\n",
       "      <td>35126.000000</td>\n",
       "      <td>35126.000000</td>\n",
       "      <td>35126.000000</td>\n",
       "      <td>35126.000000</td>\n",
       "      <td>35126.000000</td>\n",
       "    </tr>\n",
       "    <tr>\n",
       "      <th>mean</th>\n",
       "      <td>0.526049</td>\n",
       "      <td>702.352929</td>\n",
       "      <td>1023.628822</td>\n",
       "      <td>686.663383</td>\n",
       "      <td>782.441212</td>\n",
       "      <td>0.831286</td>\n",
       "    </tr>\n",
       "    <tr>\n",
       "      <th>std</th>\n",
       "      <td>0.970390</td>\n",
       "      <td>39.767900</td>\n",
       "      <td>15.178057</td>\n",
       "      <td>51.103595</td>\n",
       "      <td>115.262956</td>\n",
       "      <td>0.047694</td>\n",
       "    </tr>\n",
       "    <tr>\n",
       "      <th>min</th>\n",
       "      <td>0.000000</td>\n",
       "      <td>289.000000</td>\n",
       "      <td>400.000000</td>\n",
       "      <td>3.000000</td>\n",
       "      <td>5.000000</td>\n",
       "      <td>0.038387</td>\n",
       "    </tr>\n",
       "    <tr>\n",
       "      <th>25%</th>\n",
       "      <td>0.000000</td>\n",
       "      <td>683.000000</td>\n",
       "      <td>1024.000000</td>\n",
       "      <td>651.000000</td>\n",
       "      <td>653.000000</td>\n",
       "      <td>0.785555</td>\n",
       "    </tr>\n",
       "    <tr>\n",
       "      <th>50%</th>\n",
       "      <td>0.000000</td>\n",
       "      <td>683.000000</td>\n",
       "      <td>1024.000000</td>\n",
       "      <td>683.000000</td>\n",
       "      <td>831.000000</td>\n",
       "      <td>0.826389</td>\n",
       "    </tr>\n",
       "    <tr>\n",
       "      <th>75%</th>\n",
       "      <td>1.000000</td>\n",
       "      <td>683.000000</td>\n",
       "      <td>1024.000000</td>\n",
       "      <td>683.000000</td>\n",
       "      <td>878.000000</td>\n",
       "      <td>0.876936</td>\n",
       "    </tr>\n",
       "    <tr>\n",
       "      <th>max</th>\n",
       "      <td>4.000000</td>\n",
       "      <td>1024.000000</td>\n",
       "      <td>1024.000000</td>\n",
       "      <td>1024.000000</td>\n",
       "      <td>1024.000000</td>\n",
       "      <td>0.999995</td>\n",
       "    </tr>\n",
       "  </tbody>\n",
       "</table>\n",
       "</div>"
      ],
      "text/plain": [
       "              level             x             y     cropped_x     cropped_y  \\\n",
       "count  35126.000000  35126.000000  35126.000000  35126.000000  35126.000000   \n",
       "mean       0.526049    702.352929   1023.628822    686.663383    782.441212   \n",
       "std        0.970390     39.767900     15.178057     51.103595    115.262956   \n",
       "min        0.000000    289.000000    400.000000      3.000000      5.000000   \n",
       "25%        0.000000    683.000000   1024.000000    651.000000    653.000000   \n",
       "50%        0.000000    683.000000   1024.000000    683.000000    831.000000   \n",
       "75%        1.000000    683.000000   1024.000000    683.000000    878.000000   \n",
       "max        4.000000   1024.000000   1024.000000   1024.000000   1024.000000   \n",
       "\n",
       "              ratio  \n",
       "count  35126.000000  \n",
       "mean       0.831286  \n",
       "std        0.047694  \n",
       "min        0.038387  \n",
       "25%        0.785555  \n",
       "50%        0.826389  \n",
       "75%        0.876936  \n",
       "max        0.999995  "
      ]
     },
     "execution_count": 28,
     "metadata": {},
     "output_type": "execute_result"
    }
   ],
   "source": [
    "new_train_old.describe()"
   ]
  },
  {
   "cell_type": "code",
   "execution_count": 21,
   "metadata": {},
   "outputs": [
    {
     "data": {
      "text/html": [
       "<div>\n",
       "<style scoped>\n",
       "    .dataframe tbody tr th:only-of-type {\n",
       "        vertical-align: middle;\n",
       "    }\n",
       "\n",
       "    .dataframe tbody tr th {\n",
       "        vertical-align: top;\n",
       "    }\n",
       "\n",
       "    .dataframe thead th {\n",
       "        text-align: right;\n",
       "    }\n",
       "</style>\n",
       "<table border=\"1\" class=\"dataframe\">\n",
       "  <thead>\n",
       "    <tr style=\"text-align: right;\">\n",
       "      <th></th>\n",
       "      <th>image</th>\n",
       "      <th>level</th>\n",
       "      <th>x</th>\n",
       "      <th>y</th>\n",
       "      <th>cropped_x</th>\n",
       "      <th>cropped_y</th>\n",
       "      <th>ratio</th>\n",
       "    </tr>\n",
       "  </thead>\n",
       "  <tbody>\n",
       "    <tr>\n",
       "      <th>632</th>\n",
       "      <td>766_left</td>\n",
       "      <td>1</td>\n",
       "      <td>768.0</td>\n",
       "      <td>1024.0</td>\n",
       "      <td>557.0</td>\n",
       "      <td>414.0</td>\n",
       "      <td>0.123965</td>\n",
       "    </tr>\n",
       "    <tr>\n",
       "      <th>1578</th>\n",
       "      <td>1986_left</td>\n",
       "      <td>0</td>\n",
       "      <td>768.0</td>\n",
       "      <td>1024.0</td>\n",
       "      <td>3.0</td>\n",
       "      <td>5.0</td>\n",
       "      <td>0.333333</td>\n",
       "    </tr>\n",
       "    <tr>\n",
       "      <th>2313</th>\n",
       "      <td>2857_right</td>\n",
       "      <td>0</td>\n",
       "      <td>768.0</td>\n",
       "      <td>1024.0</td>\n",
       "      <td>768.0</td>\n",
       "      <td>824.0</td>\n",
       "      <td>0.384521</td>\n",
       "    </tr>\n",
       "    <tr>\n",
       "      <th>3090</th>\n",
       "      <td>3829_left</td>\n",
       "      <td>2</td>\n",
       "      <td>315.0</td>\n",
       "      <td>400.0</td>\n",
       "      <td>273.0</td>\n",
       "      <td>255.0</td>\n",
       "      <td>0.361517</td>\n",
       "    </tr>\n",
       "    <tr>\n",
       "      <th>7604</th>\n",
       "      <td>9590_left</td>\n",
       "      <td>2</td>\n",
       "      <td>768.0</td>\n",
       "      <td>1024.0</td>\n",
       "      <td>747.0</td>\n",
       "      <td>676.0</td>\n",
       "      <td>0.214564</td>\n",
       "    </tr>\n",
       "  </tbody>\n",
       "</table>\n",
       "</div>"
      ],
      "text/plain": [
       "           image  level      x       y  cropped_x  cropped_y     ratio\n",
       "632     766_left      1  768.0  1024.0      557.0      414.0  0.123965\n",
       "1578   1986_left      0  768.0  1024.0        3.0        5.0  0.333333\n",
       "2313  2857_right      0  768.0  1024.0      768.0      824.0  0.384521\n",
       "3090   3829_left      2  315.0   400.0      273.0      255.0  0.361517\n",
       "7604   9590_left      2  768.0  1024.0      747.0      676.0  0.214564"
      ]
     },
     "execution_count": 21,
     "metadata": {},
     "output_type": "execute_result"
    }
   ],
   "source": [
    "new_train_old[new_train_old['ratio']<0.5].head()"
   ]
  },
  {
   "cell_type": "code",
   "execution_count": 22,
   "metadata": {},
   "outputs": [
    {
     "data": {
      "text/plain": [
       "<matplotlib.image.AxesImage at 0x7f3b08091198>"
      ]
     },
     "execution_count": 22,
     "metadata": {},
     "output_type": "execute_result"
    },
    {
     "data": {
      "image/png": "[encoded data removed]",
      "text/plain": [
       "<Figure size 432x288 with 1 Axes>"
      ]
     },
     "metadata": {
      "needs_background": "light"
     },
     "output_type": "display_data"
    }
   ],
   "source": [
    "x = '2857_right'\n",
    "im =Image.open(f'../input/diabetic-retinopathy-resized/resized_train/{x}.jpeg')\n",
    "plt.imshow(im)"
   ]
  },
  {
   "cell_type": "markdown",
   "metadata": {},
   "source": [
    "2015のデータの分布は特徴的\n",
    "* 横長の画像が多い\n",
    "* 光量が足りずに背景と同化している画像もある"
   ]
  },
  {
   "cell_type": "code",
   "execution_count": null,
   "metadata": {},
   "outputs": [],
   "source": []
  }
 ],
 "metadata": {
  "kernelspec": {
   "display_name": "Python 3",
   "language": "python",
   "name": "python3"
  },
  "language_info": {
   "codemirror_mode": {
    "name": "ipython",
    "version": 3
   },
   "file_extension": ".py",
   "mimetype": "text/x-python",
   "name": "python",
   "nbconvert_exporter": "python",
   "pygments_lexer": "ipython3",
   "version": "3.7.0"
  }
 },
 "nbformat": 4,
 "nbformat_minor": 2
}
