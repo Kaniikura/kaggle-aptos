{
 "cells": [
  {
   "cell_type": "code",
   "execution_count": 2,
   "metadata": {},
   "outputs": [],
   "source": [
    "%reload_ext autoreload\n",
    "%autoreload 2\n",
    "%matplotlib inline\n",
    "import numpy as np\n",
    "import pandas as pd\n",
    "import seaborn as sns; sns.set()\n",
    "import scipy as sp\n",
    "from collections import Counter\n",
    "import json\n",
    "import time\n",
    "import cv2\n",
    "import matplotlib.pyplot as plt\n",
    "from tqdm import tqdm\n",
    "from PIL import Image, ImageFile\n",
    "from torch.utils.data import Dataset\n",
    "import torch\n",
    "from torchvision import transforms\n",
    "import albumentations\n",
    "from albumentations import torch as AT\n",
    "import os\n",
    "\n",
    "# To have reproducible results and compare them\n",
    "nr_seed = 2019\n",
    "import numpy as np \n",
    "np.random.seed(nr_seed)"
   ]
  },
  {
   "cell_type": "code",
   "execution_count": 2,
   "metadata": {},
   "outputs": [],
   "source": [
    "# ref: https://www.kaggle.com/ratthachat/aptos-updatedv14-preprocessing-ben-s-cropping\n",
    "\n",
    "def crop_image1(img,tol=7):\n",
    "    # tol  is tolerance\n",
    "    mask = img>tol\n",
    "    return img[np.ix_(mask.any(1),mask.any(0))]\n",
    "\n",
    "def crop_image_from_gray(img,tol=7):\n",
    "    if img.ndim ==2:\n",
    "        mask = img>tol\n",
    "        return img[np.ix_(mask.any(1),mask.any(0))]\n",
    "    elif img.ndim==3:\n",
    "        gray_img = cv2.cvtColor(img, cv2.COLOR_RGB2GRAY)\n",
    "        mask = gray_img>tol\n",
    "        \n",
    "        check_shape = img[:,:,0][np.ix_(mask.any(1),mask.any(0))].shape[0]\n",
    "        if (check_shape == 0): # image is too dark so that we crop out everything,\n",
    "            return img \n",
    "        else:\n",
    "            img1=img[:,:,0][np.ix_(mask.any(1),mask.any(0))]\n",
    "            img2=img[:,:,1][np.ix_(mask.any(1),mask.any(0))]\n",
    "            img3=img[:,:,2][np.ix_(mask.any(1),mask.any(0))]\n",
    "            img = np.stack([img1,img2,img3],axis=-1)\n",
    "        \n",
    "        return img\n"
   ]
  },
  {
   "cell_type": "markdown",
   "metadata": {},
   "source": [
    "## load data"
   ]
  },
  {
   "cell_type": "markdown",
   "metadata": {},
   "source": [
    "## check image attributes\n",
    "I'm going to investigate following 5 attributes of images\n",
    "* **image height** = img.shape[0]\n",
    "* **image width** = img.shape[1]\n",
    "* **cropped image height** = crop_image_from_gray(img).shape[0]\n",
    "* **cropped image width** = crop_image_from_gray(img).shape[1]\n",
    "* **Foreground ratio of cropped image**"
   ]
  },
  {
   "cell_type": "code",
   "execution_count": 4,
   "metadata": {},
   "outputs": [],
   "source": [
    "# processing for taking image attributes\n",
    "def apply_img_attr(x,datatype='train_new'):\n",
    "    lst = []\n",
    "    if datatype=='train_new':\n",
    "        im = cv2.imread(f\"../input/aptos2019-blindness-detection/train_images/{x}.png\")\n",
    "    elif datatype=='test_new':\n",
    "        im = cv2.imread(f\"../input/aptos2019-blindness-detection/test_images/{x}.png\")\n",
    "    else :\n",
    "        im = cv2.imread(f\"../input/diabetic-retinopathy-resized/resized_train/{x}.jpeg\")\n",
    "        \n",
    "    lst += im.shape[:2]\n",
    "    im = crop_image_from_gray(im)\n",
    "    im = cv2.cvtColor(im, cv2.COLOR_BGR2GRAY)\n",
    "    lst += im.shape[:2]\n",
    "    s1 = im.size\n",
    "    mask = im > 7\n",
    "    s2 = mask.sum()\n",
    "    ratio = s2/s1\n",
    "    lst.append(ratio)\n",
    "    return lst"
   ]
  },
  {
   "cell_type": "markdown",
   "metadata": {},
   "source": [
    "## processing data and saving results as csv"
   ]
  },
  {
   "cell_type": "code",
   "execution_count": 5,
   "metadata": {},
   "outputs": [
    {
     "data": {
      "text/html": [
       "<div>\n",
       "<style scoped>\n",
       "    .dataframe tbody tr th:only-of-type {\n",
       "        vertical-align: middle;\n",
       "    }\n",
       "\n",
       "    .dataframe tbody tr th {\n",
       "        vertical-align: top;\n",
       "    }\n",
       "\n",
       "    .dataframe thead th {\n",
       "        text-align: right;\n",
       "    }\n",
       "</style>\n",
       "<table border=\"1\" class=\"dataframe\">\n",
       "  <thead>\n",
       "    <tr style=\"text-align: right;\">\n",
       "      <th></th>\n",
       "      <th>id_code</th>\n",
       "      <th>diagnosis</th>\n",
       "      <th>x</th>\n",
       "      <th>y</th>\n",
       "      <th>cropped_x</th>\n",
       "      <th>cropped_y</th>\n",
       "      <th>ratio</th>\n",
       "    </tr>\n",
       "  </thead>\n",
       "  <tbody>\n",
       "    <tr>\n",
       "      <th>0</th>\n",
       "      <td>000c1434d8d7</td>\n",
       "      <td>2</td>\n",
       "      <td>2136.0</td>\n",
       "      <td>3216.0</td>\n",
       "      <td>2136.0</td>\n",
       "      <td>2709.0</td>\n",
       "      <td>0.885965</td>\n",
       "    </tr>\n",
       "    <tr>\n",
       "      <th>1</th>\n",
       "      <td>001639a390f0</td>\n",
       "      <td>4</td>\n",
       "      <td>2136.0</td>\n",
       "      <td>3216.0</td>\n",
       "      <td>2136.0</td>\n",
       "      <td>2713.0</td>\n",
       "      <td>0.885399</td>\n",
       "    </tr>\n",
       "    <tr>\n",
       "      <th>2</th>\n",
       "      <td>0024cdab0c1e</td>\n",
       "      <td>1</td>\n",
       "      <td>1736.0</td>\n",
       "      <td>2416.0</td>\n",
       "      <td>1736.0</td>\n",
       "      <td>2259.0</td>\n",
       "      <td>0.891311</td>\n",
       "    </tr>\n",
       "    <tr>\n",
       "      <th>3</th>\n",
       "      <td>002c21358ce6</td>\n",
       "      <td>0</td>\n",
       "      <td>1050.0</td>\n",
       "      <td>1050.0</td>\n",
       "      <td>1050.0</td>\n",
       "      <td>1050.0</td>\n",
       "      <td>0.791934</td>\n",
       "    </tr>\n",
       "    <tr>\n",
       "      <th>4</th>\n",
       "      <td>005b95c28852</td>\n",
       "      <td>0</td>\n",
       "      <td>1536.0</td>\n",
       "      <td>2048.0</td>\n",
       "      <td>1378.0</td>\n",
       "      <td>1376.0</td>\n",
       "      <td>0.786894</td>\n",
       "    </tr>\n",
       "  </tbody>\n",
       "</table>\n",
       "</div>"
      ],
      "text/plain": [
       "        id_code  diagnosis       x       y  cropped_x  cropped_y     ratio\n",
       "0  000c1434d8d7          2  2136.0  3216.0     2136.0     2709.0  0.885965\n",
       "1  001639a390f0          4  2136.0  3216.0     2136.0     2713.0  0.885399\n",
       "2  0024cdab0c1e          1  1736.0  2416.0     1736.0     2259.0  0.891311\n",
       "3  002c21358ce6          0  1050.0  1050.0     1050.0     1050.0  0.791934\n",
       "4  005b95c28852          0  1536.0  2048.0     1378.0     1376.0  0.786894"
      ]
     },
     "execution_count": 5,
     "metadata": {},
     "output_type": "execute_result"
    }
   ],
   "source": [
    "# 2019 train\n",
    "new_train = pd.concat([train,train['id_code'].apply(lambda x: pd.Series(apply_img_attr(x,datatype='train_new')))\\\n",
    "                    .rename(columns={0:\"x\",1:\"y\",2:\"cropped_x\",3:\"cropped_y\",4:\"ratio\"})],axis=1,join ='inner')\n",
    "new_train.to_csv('../data/csv/train_img-attr.csv')\n",
    "new_train.head()"
   ]
  },
  {
   "cell_type": "code",
   "execution_count": 6,
   "metadata": {},
   "outputs": [
    {
     "data": {
      "text/html": [
       "<div>\n",
       "<style scoped>\n",
       "    .dataframe tbody tr th:only-of-type {\n",
       "        vertical-align: middle;\n",
       "    }\n",
       "\n",
       "    .dataframe tbody tr th {\n",
       "        vertical-align: top;\n",
       "    }\n",
       "\n",
       "    .dataframe thead th {\n",
       "        text-align: right;\n",
       "    }\n",
       "</style>\n",
       "<table border=\"1\" class=\"dataframe\">\n",
       "  <thead>\n",
       "    <tr style=\"text-align: right;\">\n",
       "      <th></th>\n",
       "      <th>id_code</th>\n",
       "      <th>x</th>\n",
       "      <th>y</th>\n",
       "      <th>cropped_x</th>\n",
       "      <th>cropped_y</th>\n",
       "      <th>ratio</th>\n",
       "    </tr>\n",
       "  </thead>\n",
       "  <tbody>\n",
       "    <tr>\n",
       "      <th>0</th>\n",
       "      <td>0005cfc8afb6</td>\n",
       "      <td>480.0</td>\n",
       "      <td>640.0</td>\n",
       "      <td>480.0</td>\n",
       "      <td>640.0</td>\n",
       "      <td>0.989251</td>\n",
       "    </tr>\n",
       "    <tr>\n",
       "      <th>1</th>\n",
       "      <td>003f0afdcd15</td>\n",
       "      <td>480.0</td>\n",
       "      <td>640.0</td>\n",
       "      <td>480.0</td>\n",
       "      <td>640.0</td>\n",
       "      <td>0.989401</td>\n",
       "    </tr>\n",
       "    <tr>\n",
       "      <th>2</th>\n",
       "      <td>006efc72b638</td>\n",
       "      <td>480.0</td>\n",
       "      <td>640.0</td>\n",
       "      <td>480.0</td>\n",
       "      <td>640.0</td>\n",
       "      <td>0.989681</td>\n",
       "    </tr>\n",
       "    <tr>\n",
       "      <th>3</th>\n",
       "      <td>00836aaacf06</td>\n",
       "      <td>480.0</td>\n",
       "      <td>640.0</td>\n",
       "      <td>480.0</td>\n",
       "      <td>640.0</td>\n",
       "      <td>0.989460</td>\n",
       "    </tr>\n",
       "    <tr>\n",
       "      <th>4</th>\n",
       "      <td>009245722fa4</td>\n",
       "      <td>480.0</td>\n",
       "      <td>640.0</td>\n",
       "      <td>480.0</td>\n",
       "      <td>640.0</td>\n",
       "      <td>0.989551</td>\n",
       "    </tr>\n",
       "  </tbody>\n",
       "</table>\n",
       "</div>"
      ],
      "text/plain": [
       "        id_code      x      y  cropped_x  cropped_y     ratio\n",
       "0  0005cfc8afb6  480.0  640.0      480.0      640.0  0.989251\n",
       "1  003f0afdcd15  480.0  640.0      480.0      640.0  0.989401\n",
       "2  006efc72b638  480.0  640.0      480.0      640.0  0.989681\n",
       "3  00836aaacf06  480.0  640.0      480.0      640.0  0.989460\n",
       "4  009245722fa4  480.0  640.0      480.0      640.0  0.989551"
      ]
     },
     "execution_count": 6,
     "metadata": {},
     "output_type": "execute_result"
    }
   ],
   "source": [
    "# 2019 test\n",
    "new_test = pd.concat([test,test['id_code'].apply(lambda x: pd.Series(apply_img_attr(x,datatype='test_new')))\\\n",
    "                    .rename(columns={0:\"x\",1:\"y\",2:\"cropped_x\",3:\"cropped_y\",4:\"ratio\"})],axis=1,join ='inner')\n",
    "new_test.to_csv('../data/csv/test_img-attr.csv')\n",
    "new_test.head()"
   ]
  },
  {
   "cell_type": "code",
   "execution_count": 7,
   "metadata": {},
   "outputs": [
    {
     "data": {
      "text/html": [
       "<div>\n",
       "<style scoped>\n",
       "    .dataframe tbody tr th:only-of-type {\n",
       "        vertical-align: middle;\n",
       "    }\n",
       "\n",
       "    .dataframe tbody tr th {\n",
       "        vertical-align: top;\n",
       "    }\n",
       "\n",
       "    .dataframe thead th {\n",
       "        text-align: right;\n",
       "    }\n",
       "</style>\n",
       "<table border=\"1\" class=\"dataframe\">\n",
       "  <thead>\n",
       "    <tr style=\"text-align: right;\">\n",
       "      <th></th>\n",
       "      <th>image</th>\n",
       "      <th>level</th>\n",
       "      <th>x</th>\n",
       "      <th>y</th>\n",
       "      <th>cropped_x</th>\n",
       "      <th>cropped_y</th>\n",
       "      <th>ratio</th>\n",
       "    </tr>\n",
       "  </thead>\n",
       "  <tbody>\n",
       "    <tr>\n",
       "      <th>0</th>\n",
       "      <td>10_left</td>\n",
       "      <td>0</td>\n",
       "      <td>683.0</td>\n",
       "      <td>1024.0</td>\n",
       "      <td>647.0</td>\n",
       "      <td>650.0</td>\n",
       "      <td>0.785448</td>\n",
       "    </tr>\n",
       "    <tr>\n",
       "      <th>1</th>\n",
       "      <td>10_right</td>\n",
       "      <td>0</td>\n",
       "      <td>683.0</td>\n",
       "      <td>1024.0</td>\n",
       "      <td>647.0</td>\n",
       "      <td>648.0</td>\n",
       "      <td>0.786073</td>\n",
       "    </tr>\n",
       "    <tr>\n",
       "      <th>2</th>\n",
       "      <td>13_left</td>\n",
       "      <td>0</td>\n",
       "      <td>768.0</td>\n",
       "      <td>1024.0</td>\n",
       "      <td>768.0</td>\n",
       "      <td>802.0</td>\n",
       "      <td>0.812109</td>\n",
       "    </tr>\n",
       "    <tr>\n",
       "      <th>3</th>\n",
       "      <td>13_right</td>\n",
       "      <td>0</td>\n",
       "      <td>768.0</td>\n",
       "      <td>1024.0</td>\n",
       "      <td>768.0</td>\n",
       "      <td>802.0</td>\n",
       "      <td>0.812183</td>\n",
       "    </tr>\n",
       "    <tr>\n",
       "      <th>4</th>\n",
       "      <td>15_left</td>\n",
       "      <td>1</td>\n",
       "      <td>679.0</td>\n",
       "      <td>1024.0</td>\n",
       "      <td>665.0</td>\n",
       "      <td>667.0</td>\n",
       "      <td>0.782548</td>\n",
       "    </tr>\n",
       "  </tbody>\n",
       "</table>\n",
       "</div>"
      ],
      "text/plain": [
       "      image  level      x       y  cropped_x  cropped_y     ratio\n",
       "0   10_left      0  683.0  1024.0      647.0      650.0  0.785448\n",
       "1  10_right      0  683.0  1024.0      647.0      648.0  0.786073\n",
       "2   13_left      0  768.0  1024.0      768.0      802.0  0.812109\n",
       "3  13_right      0  768.0  1024.0      768.0      802.0  0.812183\n",
       "4   15_left      1  679.0  1024.0      665.0      667.0  0.782548"
      ]
     },
     "execution_count": 7,
     "metadata": {},
     "output_type": "execute_result"
    }
   ],
   "source": [
    "# 2015\n",
    "new_train_old = pd.concat([train_old,train_old['image'].apply(lambda x: pd.Series(apply_img_attr(x,datatype='train_old')))\\\n",
    "                    .rename(columns={0:\"x\",1:\"y\",2:\"cropped_x\",3:\"cropped_y\",4:\"ratio\"})],axis=1,join ='inner')\n",
    "new_train_old.to_csv('../data/csv/train_old_img-attr.csv')\n",
    "new_train_old.head()"
   ]
  },
  {
   "cell_type": "markdown",
   "metadata": {},
   "source": [
    "## Visualize "
   ]
  },
  {
   "cell_type": "code",
   "execution_count": 5,
   "metadata": {},
   "outputs": [],
   "source": [
    "# read\n",
    "new_train = pd.read_csv('../data/csv/train_img-attr.csv')\n",
    "new_test = pd.read_csv('../data/csv/test_img-attr.csv')\n",
    "new_train_old = pd.read_csv('../data/csv/train_old_img-attr.csv')"
   ]
  },
  {
   "cell_type": "markdown",
   "metadata": {},
   "source": [
    "### foreground ratio & size of cropped image"
   ]
  },
  {
   "cell_type": "markdown",
   "metadata": {},
   "source": [
    "#### train"
   ]
  },
  {
   "cell_type": "code",
   "execution_count": 11,
   "metadata": {},
   "outputs": [
    {
     "data": {
      "text/plain": [
       "<matplotlib.axes._subplots.AxesSubplot at 0x7f3ac8424898>"
      ]
     },
     "execution_count": 11,
     "metadata": {},
     "output_type": "execute_result"
    },
    {
     "data": {
      "image/png": "[encoded data removed]",
      "text/plain": [
       "<Figure size 432x288 with 1 Axes>"
      ]
     },
     "metadata": {
      "needs_background": "light"
     },
     "output_type": "display_data"
    }
   ],
   "source": [
    "new_train['ratio'].hist(bins=30)"
   ]
  },
  {
   "cell_type": "code",
   "execution_count": 24,
   "metadata": {},
   "outputs": [
    {
     "data": {
      "image/png": "[encoded data removed]",
      "text/plain": [
       "<Figure size 432x288 with 1 Axes>"
      ]
     },
     "metadata": {},
     "output_type": "display_data"
    }
   ],
   "source": [
    "ax = sns.scatterplot(x=\"cropped_x\", y=\"cropped_y\", data=new_train)"
   ]
  },
  {
   "cell_type": "code",
   "execution_count": 6,
   "metadata": {},
   "outputs": [
    {
     "data": {
      "text/plain": [
       "<matplotlib.axes._subplots.AxesSubplot at 0x7f4afbd27e80>"
      ]
     },
     "execution_count": 6,
     "metadata": {},
     "output_type": "execute_result"
    },
    {
     "data": {
      "image/png": "[encoded data removed]",
      "text/plain": [
       "<Figure size 432x288 with 1 Axes>"
      ]
     },
     "metadata": {
      "needs_background": "light"
     },
     "output_type": "display_data"
    }
   ],
   "source": [
    "(new_train['cropped_y']/new_train['cropped_x']).hist(bins=30)"
   ]
  },
  {
   "cell_type": "markdown",
   "metadata": {},
   "source": [
    "#### test"
   ]
  },
  {
   "cell_type": "code",
   "execution_count": 20,
   "metadata": {},
   "outputs": [
    {
     "data": {
      "text/plain": [
       "<matplotlib.axes._subplots.AxesSubplot at 0x7f3ad4634f98>"
      ]
     },
     "execution_count": 20,
     "metadata": {},
     "output_type": "execute_result"
    },
    {
     "data": {
      "image/png": "[encoded data removed]",
      "text/plain": [
       "<Figure size 432x288 with 1 Axes>"
      ]
     },
     "metadata": {
      "needs_background": "light"
     },
     "output_type": "display_data"
    }
   ],
   "source": [
    "new_test['ratio'].hist(bins=30)"
   ]
  },
  {
   "cell_type": "code",
   "execution_count": 26,
   "metadata": {},
   "outputs": [
    {
     "data": {
      "image/png": "[encoded data removed]",
      "text/plain": [
       "<Figure size 432x288 with 1 Axes>"
      ]
     },
     "metadata": {},
     "output_type": "display_data"
    }
   ],
   "source": [
    "ax = sns.scatterplot(x=\"cropped_x\", y=\"cropped_y\", data=new_test)"
   ]
  },
  {
   "cell_type": "code",
   "execution_count": 7,
   "metadata": {},
   "outputs": [
    {
     "data": {
      "text/plain": [
       "<matplotlib.axes._subplots.AxesSubplot at 0x7f4afbd82b00>"
      ]
     },
     "execution_count": 7,
     "metadata": {},
     "output_type": "execute_result"
    },
    {
     "data": {
      "image/png": "[encoded data removed]",
      "text/plain": [
       "<Figure size 432x288 with 1 Axes>"
      ]
     },
     "metadata": {
      "needs_background": "light"
     },
     "output_type": "display_data"
    }
   ],
   "source": [
    "(new_test['cropped_y']/new_test['cropped_x']).hist(bins=30)"
   ]
  },
  {
   "cell_type": "markdown",
   "metadata": {},
   "source": [
    "#### 2015"
   ]
  },
  {
   "cell_type": "code",
   "execution_count": 31,
   "metadata": {},
   "outputs": [
    {
     "data": {
      "text/plain": [
       "<matplotlib.axes._subplots.AxesSubplot at 0x7f3b101fbdd8>"
      ]
     },
     "execution_count": 31,
     "metadata": {},
     "output_type": "execute_result"
    },
    {
     "data": {
      "image/png": "[encoded data removed]",
      "text/plain": [
       "<Figure size 432x288 with 1 Axes>"
      ]
     },
     "metadata": {},
     "output_type": "display_data"
    }
   ],
   "source": [
    "new_train_old['ratio'].hist(bins=30)"
   ]
  },
  {
   "cell_type": "code",
   "execution_count": 32,
   "metadata": {},
   "outputs": [
    {
     "data": {
      "image/png": "[encoded data removed]",
      "text/plain": [
       "<Figure size 432x288 with 1 Axes>"
      ]
     },
     "metadata": {},
     "output_type": "display_data"
    }
   ],
   "source": [
    "ax = sns.scatterplot(x=\"cropped_x\", y=\"cropped_y\", data=new_train_old)"
   ]
  },
  {
   "cell_type": "code",
   "execution_count": 8,
   "metadata": {},
   "outputs": [
    {
     "data": {
      "text/plain": [
       "<matplotlib.axes._subplots.AxesSubplot at 0x7f4afbb932b0>"
      ]
     },
     "execution_count": 8,
     "metadata": {},
     "output_type": "execute_result"
    },
    {
     "data": {
      "image/png": "[encoded data removed]",
      "text/plain": [
       "<Figure size 432x288 with 1 Axes>"
      ]
     },
     "metadata": {
      "needs_background": "light"
     },
     "output_type": "display_data"
    }
   ],
   "source": [
    "(new_train_old['cropped_y']/new_train_old['cropped_x']).hist(bins=30)"
   ]
  },
  {
   "cell_type": "markdown",
   "metadata": {},
   "source": [
    "## What's happend?\n",
    "We now find that there is some interesting features of each data."
   ]
  },
  {
   "cell_type": "code",
   "execution_count": 28,
   "metadata": {
    "scrolled": true
   },
   "outputs": [
    {
     "data": {
      "text/html": [
       "<div>\n",
       "<style scoped>\n",
       "    .dataframe tbody tr th:only-of-type {\n",
       "        vertical-align: middle;\n",
       "    }\n",
       "\n",
       "    .dataframe tbody tr th {\n",
       "        vertical-align: top;\n",
       "    }\n",
       "\n",
       "    .dataframe thead th {\n",
       "        text-align: right;\n",
       "    }\n",
       "</style>\n",
       "<table border=\"1\" class=\"dataframe\">\n",
       "  <thead>\n",
       "    <tr style=\"text-align: right;\">\n",
       "      <th></th>\n",
       "      <th>level</th>\n",
       "      <th>x</th>\n",
       "      <th>y</th>\n",
       "      <th>cropped_x</th>\n",
       "      <th>cropped_y</th>\n",
       "      <th>ratio</th>\n",
       "    </tr>\n",
       "  </thead>\n",
       "  <tbody>\n",
       "    <tr>\n",
       "      <th>count</th>\n",
       "      <td>35126.000000</td>\n",
       "      <td>35126.000000</td>\n",
       "      <td>35126.000000</td>\n",
       "      <td>35126.000000</td>\n",
       "      <td>35126.000000</td>\n",
       "      <td>35126.000000</td>\n",
       "    </tr>\n",
       "    <tr>\n",
       "      <th>mean</th>\n",
       "      <td>0.526049</td>\n",
       "      <td>702.352929</td>\n",
       "      <td>1023.628822</td>\n",
       "      <td>686.663383</td>\n",
       "      <td>782.441212</td>\n",
       "      <td>0.831286</td>\n",
       "    </tr>\n",
       "    <tr>\n",
       "      <th>std</th>\n",
       "      <td>0.970390</td>\n",
       "      <td>39.767900</td>\n",
       "      <td>15.178057</td>\n",
       "      <td>51.103595</td>\n",
       "      <td>115.262956</td>\n",
       "      <td>0.047694</td>\n",
       "    </tr>\n",
       "    <tr>\n",
       "      <th>min</th>\n",
       "      <td>0.000000</td>\n",
       "      <td>289.000000</td>\n",
       "      <td>400.000000</td>\n",
       "      <td>3.000000</td>\n",
       "      <td>5.000000</td>\n",
       "      <td>0.038387</td>\n",
       "    </tr>\n",
       "    <tr>\n",
       "      <th>25%</th>\n",
       "      <td>0.000000</td>\n",
       "      <td>683.000000</td>\n",
       "      <td>1024.000000</td>\n",
       "      <td>651.000000</td>\n",
       "      <td>653.000000</td>\n",
       "      <td>0.785555</td>\n",
       "    </tr>\n",
       "    <tr>\n",
       "      <th>50%</th>\n",
       "      <td>0.000000</td>\n",
       "      <td>683.000000</td>\n",
       "      <td>1024.000000</td>\n",
       "      <td>683.000000</td>\n",
       "      <td>831.000000</td>\n",
       "      <td>0.826389</td>\n",
       "    </tr>\n",
       "    <tr>\n",
       "      <th>75%</th>\n",
       "      <td>1.000000</td>\n",
       "      <td>683.000000</td>\n",
       "      <td>1024.000000</td>\n",
       "      <td>683.000000</td>\n",
       "      <td>878.000000</td>\n",
       "      <td>0.876936</td>\n",
       "    </tr>\n",
       "    <tr>\n",
       "      <th>max</th>\n",
       "      <td>4.000000</td>\n",
       "      <td>1024.000000</td>\n",
       "      <td>1024.000000</td>\n",
       "      <td>1024.000000</td>\n",
       "      <td>1024.000000</td>\n",
       "      <td>0.999995</td>\n",
       "    </tr>\n",
       "  </tbody>\n",
       "</table>\n",
       "</div>"
      ],
      "text/plain": [
       "              level             x             y     cropped_x     cropped_y  \\\n",
       "count  35126.000000  35126.000000  35126.000000  35126.000000  35126.000000   \n",
       "mean       0.526049    702.352929   1023.628822    686.663383    782.441212   \n",
       "std        0.970390     39.767900     15.178057     51.103595    115.262956   \n",
       "min        0.000000    289.000000    400.000000      3.000000      5.000000   \n",
       "25%        0.000000    683.000000   1024.000000    651.000000    653.000000   \n",
       "50%        0.000000    683.000000   1024.000000    683.000000    831.000000   \n",
       "75%        1.000000    683.000000   1024.000000    683.000000    878.000000   \n",
       "max        4.000000   1024.000000   1024.000000   1024.000000   1024.000000   \n",
       "\n",
       "              ratio  \n",
       "count  35126.000000  \n",
       "mean       0.831286  \n",
       "std        0.047694  \n",
       "min        0.038387  \n",
       "25%        0.785555  \n",
       "50%        0.826389  \n",
       "75%        0.876936  \n",
       "max        0.999995  "
      ]
     },
     "execution_count": 28,
     "metadata": {},
     "output_type": "execute_result"
    }
   ],
   "source": [
    "new_train_old.describe()"
   ]
  },
  {
   "cell_type": "code",
   "execution_count": 21,
   "metadata": {},
   "outputs": [
    {
     "data": {
      "text/html": [
       "<div>\n",
       "<style scoped>\n",
       "    .dataframe tbody tr th:only-of-type {\n",
       "        vertical-align: middle;\n",
       "    }\n",
       "\n",
       "    .dataframe tbody tr th {\n",
       "        vertical-align: top;\n",
       "    }\n",
       "\n",
       "    .dataframe thead th {\n",
       "        text-align: right;\n",
       "    }\n",
       "</style>\n",
       "<table border=\"1\" class=\"dataframe\">\n",
       "  <thead>\n",
       "    <tr style=\"text-align: right;\">\n",
       "      <th></th>\n",
       "      <th>Unnamed: 0</th>\n",
       "      <th>image</th>\n",
       "      <th>level</th>\n",
       "      <th>x</th>\n",
       "      <th>y</th>\n",
       "      <th>cropped_x</th>\n",
       "      <th>cropped_y</th>\n",
       "      <th>ratio</th>\n",
       "    </tr>\n",
       "  </thead>\n",
       "  <tbody>\n",
       "    <tr>\n",
       "      <th>424</th>\n",
       "      <td>424</td>\n",
       "      <td>492_left</td>\n",
       "      <td>0</td>\n",
       "      <td>768.0</td>\n",
       "      <td>1024.0</td>\n",
       "      <td>764.0</td>\n",
       "      <td>1024.0</td>\n",
       "      <td>0.668773</td>\n",
       "    </tr>\n",
       "    <tr>\n",
       "      <th>425</th>\n",
       "      <td>425</td>\n",
       "      <td>492_right</td>\n",
       "      <td>0</td>\n",
       "      <td>768.0</td>\n",
       "      <td>1024.0</td>\n",
       "      <td>310.0</td>\n",
       "      <td>920.0</td>\n",
       "      <td>0.712433</td>\n",
       "    </tr>\n",
       "    <tr>\n",
       "      <th>462</th>\n",
       "      <td>462</td>\n",
       "      <td>551_left</td>\n",
       "      <td>0</td>\n",
       "      <td>683.0</td>\n",
       "      <td>1024.0</td>\n",
       "      <td>683.0</td>\n",
       "      <td>821.0</td>\n",
       "      <td>0.624500</td>\n",
       "    </tr>\n",
       "    <tr>\n",
       "      <th>510</th>\n",
       "      <td>510</td>\n",
       "      <td>622_left</td>\n",
       "      <td>0</td>\n",
       "      <td>768.0</td>\n",
       "      <td>1024.0</td>\n",
       "      <td>768.0</td>\n",
       "      <td>897.0</td>\n",
       "      <td>0.573069</td>\n",
       "    </tr>\n",
       "    <tr>\n",
       "      <th>546</th>\n",
       "      <td>546</td>\n",
       "      <td>669_left</td>\n",
       "      <td>0</td>\n",
       "      <td>768.0</td>\n",
       "      <td>1024.0</td>\n",
       "      <td>727.0</td>\n",
       "      <td>731.0</td>\n",
       "      <td>0.559769</td>\n",
       "    </tr>\n",
       "    <tr>\n",
       "      <th>632</th>\n",
       "      <td>632</td>\n",
       "      <td>766_left</td>\n",
       "      <td>1</td>\n",
       "      <td>768.0</td>\n",
       "      <td>1024.0</td>\n",
       "      <td>557.0</td>\n",
       "      <td>414.0</td>\n",
       "      <td>0.123965</td>\n",
       "    </tr>\n",
       "    <tr>\n",
       "      <th>764</th>\n",
       "      <td>764</td>\n",
       "      <td>940_left</td>\n",
       "      <td>0</td>\n",
       "      <td>768.0</td>\n",
       "      <td>1024.0</td>\n",
       "      <td>768.0</td>\n",
       "      <td>831.0</td>\n",
       "      <td>0.745561</td>\n",
       "    </tr>\n",
       "    <tr>\n",
       "      <th>1188</th>\n",
       "      <td>1188</td>\n",
       "      <td>1475_left</td>\n",
       "      <td>2</td>\n",
       "      <td>768.0</td>\n",
       "      <td>1024.0</td>\n",
       "      <td>768.0</td>\n",
       "      <td>824.0</td>\n",
       "      <td>0.634266</td>\n",
       "    </tr>\n",
       "    <tr>\n",
       "      <th>1264</th>\n",
       "      <td>1264</td>\n",
       "      <td>1557_left</td>\n",
       "      <td>0</td>\n",
       "      <td>768.0</td>\n",
       "      <td>1024.0</td>\n",
       "      <td>761.0</td>\n",
       "      <td>823.0</td>\n",
       "      <td>0.676918</td>\n",
       "    </tr>\n",
       "    <tr>\n",
       "      <th>1334</th>\n",
       "      <td>1334</td>\n",
       "      <td>1659_left</td>\n",
       "      <td>0</td>\n",
       "      <td>768.0</td>\n",
       "      <td>1024.0</td>\n",
       "      <td>768.0</td>\n",
       "      <td>870.0</td>\n",
       "      <td>0.643531</td>\n",
       "    </tr>\n",
       "  </tbody>\n",
       "</table>\n",
       "</div>"
      ],
      "text/plain": [
       "      Unnamed: 0      image  level      x       y  cropped_x  cropped_y  \\\n",
       "424          424   492_left      0  768.0  1024.0      764.0     1024.0   \n",
       "425          425  492_right      0  768.0  1024.0      310.0      920.0   \n",
       "462          462   551_left      0  683.0  1024.0      683.0      821.0   \n",
       "510          510   622_left      0  768.0  1024.0      768.0      897.0   \n",
       "546          546   669_left      0  768.0  1024.0      727.0      731.0   \n",
       "632          632   766_left      1  768.0  1024.0      557.0      414.0   \n",
       "764          764   940_left      0  768.0  1024.0      768.0      831.0   \n",
       "1188        1188  1475_left      2  768.0  1024.0      768.0      824.0   \n",
       "1264        1264  1557_left      0  768.0  1024.0      761.0      823.0   \n",
       "1334        1334  1659_left      0  768.0  1024.0      768.0      870.0   \n",
       "\n",
       "         ratio  \n",
       "424   0.668773  \n",
       "425   0.712433  \n",
       "462   0.624500  \n",
       "510   0.573069  \n",
       "546   0.559769  \n",
       "632   0.123965  \n",
       "764   0.745561  \n",
       "1188  0.634266  \n",
       "1264  0.676918  \n",
       "1334  0.643531  "
      ]
     },
     "execution_count": 21,
     "metadata": {},
     "output_type": "execute_result"
    }
   ],
   "source": [
    "new_train_old[new_train_old['ratio']<0.75].head(10)"
   ]
  },
  {
   "cell_type": "code",
   "execution_count": 28,
   "metadata": {},
   "outputs": [
    {
     "data": {
      "image/png": "[encoded data removed]",
      "text/plain": [
       "<Figure size 432x288 with 1 Axes>"
      ]
     },
     "metadata": {
      "needs_background": "light"
     },
     "output_type": "display_data"
    }
   ],
   "source": [
    "x = '492_right'\n",
    "im =Image.open(f'../input/diabetic-retinopathy-resized/resized_train/{x}.jpeg')\n",
    "ax = plt.imshow(im)\n",
    "ax = plt.axis('off')"
   ]
  },
  {
   "cell_type": "markdown",
   "metadata": {},
   "source": [
    "2015のデータの分布は特徴的\n",
    "* 横長の画像が多い\n",
    "* 光量が足りずに背景と同化している画像もある"
   ]
  },
  {
   "cell_type": "code",
   "execution_count": 6,
   "metadata": {},
   "outputs": [],
   "source": [
    "df = new_train_old[new_train_old['ratio']>=0.75]\n",
    "df = df[df['cropped_y']/df['cropped_x'] <= 4/3]\n",
    "df[['image','level']].to_csv('../input/diabetic-retinopathy-resized/new_trainLabels.csv')"
   ]
  },
  {
   "cell_type": "code",
   "execution_count": 7,
   "metadata": {},
   "outputs": [],
   "source": [
    "df = pd.read_csv('../input/diabetic-retinopathy-resized/new_trainLabels.csv')\n",
    "X = np.array(df['image']).reshape(-1,1)\n",
    "y = df['level']"
   ]
  },
  {
   "cell_type": "code",
   "execution_count": 13,
   "metadata": {},
   "outputs": [],
   "source": [
    "from imblearn.over_sampling import RandomOverSampler\n",
    "dic = {0:24711,1:4800,2:12000,3:3000,4:8000}\n",
    "ros = RandomOverSampler(sampling_strategy = dic,random_state=0)\n",
    "X_resampled, y_resampled = ros.fit_resample(X, y)"
   ]
  },
  {
   "cell_type": "code",
   "execution_count": 14,
   "metadata": {},
   "outputs": [],
   "source": [
    "df = pd.DataFrame()\n",
    "df['image'] = X_resampled.reshape(-1)\n",
    "df['level'] = y_resampled"
   ]
  },
  {
   "cell_type": "code",
   "execution_count": 16,
   "metadata": {},
   "outputs": [],
   "source": [
    "df.to_csv('../input/diabetic-retinopathy-resized/balanced_trainLabels.csv')"
   ]
  },
  {
   "cell_type": "code",
   "execution_count": 15,
   "metadata": {},
   "outputs": [
    {
     "data": {
      "text/plain": [
       "0    24711\n",
       "2    12000\n",
       "4     8000\n",
       "1     4800\n",
       "3     3000\n",
       "Name: level, dtype: int64"
      ]
     },
     "execution_count": 15,
     "metadata": {},
     "output_type": "execute_result"
    }
   ],
   "source": [
    "df['level'].value_counts()"
   ]
  },
  {
   "cell_type": "code",
   "execution_count": 6,
   "metadata": {},
   "outputs": [
    {
     "data": {
      "text/plain": [
       "0    1805\n",
       "2     999\n",
       "1     370\n",
       "4     295\n",
       "3     193\n",
       "Name: diagnosis, dtype: int64"
      ]
     },
     "execution_count": 6,
     "metadata": {},
     "output_type": "execute_result"
    }
   ],
   "source": [
    "new_train['diagnosis'].value_counts()"
   ]
  },
  {
   "cell_type": "code",
   "execution_count": 3,
   "metadata": {},
   "outputs": [],
   "source": [
    "df=pd.read_csv('../input/diabetic-retinopathy-resized/balanced_trainLabels.csv')"
   ]
  },
  {
   "cell_type": "code",
   "execution_count": 8,
   "metadata": {},
   "outputs": [
    {
     "data": {
      "text/plain": [
       "5050"
      ]
     },
     "execution_count": 8,
     "metadata": {},
     "output_type": "execute_result"
    }
   ],
   "source": [
    "df[df['level']==2]['image'].nunique()"
   ]
  },
  {
   "cell_type": "code",
   "execution_count": null,
   "metadata": {},
   "outputs": [],
   "source": [
    "d"
   ]
  },
  {
   "cell_type": "code",
   "execution_count": null,
   "metadata": {},
   "outputs": [],
   "source": []
  }
 ],
 "metadata": {
  "kernelspec": {
   "display_name": "Python 3",
   "language": "python",
   "name": "python3"
  },
  "language_info": {
   "codemirror_mode": {
    "name": "ipython",
    "version": 3
   },
   "file_extension": ".py",
   "mimetype": "text/x-python",
   "name": "python",
   "nbconvert_exporter": "python",
   "pygments_lexer": "ipython3",
   "version": "3.7.3"
  },
  "toc": {
   "base_numbering": 1,
   "nav_menu": {},
   "number_sections": true,
   "sideBar": true,
   "skip_h1_title": false,
   "title_cell": "Table of Contents",
   "title_sidebar": "Contents",
   "toc_cell": false,
   "toc_position": {},
   "toc_section_display": true,
   "toc_window_display": false
  },
  "varInspector": {
   "cols": {
    "lenName": 16,
    "lenType": 16,
    "lenVar": 40
   },
   "kernels_config": {
    "python": {
     "delete_cmd_postfix": "",
     "delete_cmd_prefix": "del ",
     "library": "var_list.py",
     "varRefreshCmd": "print(var_dic_list())"
    },
    "r": {
     "delete_cmd_postfix": ") ",
     "delete_cmd_prefix": "rm(",
     "library": "var_list.r",
     "varRefreshCmd": "cat(var_dic_list()) "
    }
   },
   "types_to_exclude": [
    "module",
    "function",
    "builtin_function_or_method",
    "instance",
    "_Feature"
   ],
   "window_display": false
  }
 },
 "nbformat": 4,
 "nbformat_minor": 2
}
